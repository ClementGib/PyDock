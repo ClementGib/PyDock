{
 "cells": [
  {
   "cell_type": "code",
   "execution_count": 1,
   "metadata": {},
   "outputs": [],
   "source": [
    "import pandas as pd\n",
    "import seaborn as sb\n",
    "import numpy as np\n",
    "import matplotlib \n",
    "import matplotlib.pyplot as plt\n",
    "import os\n",
    "import math \n",
    "import fbprophet"
   ]
  },
  {
   "cell_type": "code",
   "execution_count": 2,
   "metadata": {},
   "outputs": [
    {
     "name": "stdout",
     "output_type": "stream",
     "text": [
      "/mnt/c/Users/Cleme/Documents/Python/Project_Py/TP_Py/PyDock/Exos/DataVisualisation\n"
     ]
    },
    {
     "data": {
      "text/plain": [
       "<bound method DataFrame.info of         Id  MSSubClass MSZoning  LotFrontage  LotArea Street Alley LotShape  \\\n",
       "0        1          60       RL         65.0     8450   Pave   NaN      Reg   \n",
       "1        2          20       RL         80.0     9600   Pave   NaN      Reg   \n",
       "2        3          60       RL         68.0    11250   Pave   NaN      IR1   \n",
       "3        4          70       RL         60.0     9550   Pave   NaN      IR1   \n",
       "4        5          60       RL         84.0    14260   Pave   NaN      IR1   \n",
       "...    ...         ...      ...          ...      ...    ...   ...      ...   \n",
       "1455  1456          60       RL         62.0     7917   Pave   NaN      Reg   \n",
       "1456  1457          20       RL         85.0    13175   Pave   NaN      Reg   \n",
       "1457  1458          70       RL         66.0     9042   Pave   NaN      Reg   \n",
       "1458  1459          20       RL         68.0     9717   Pave   NaN      Reg   \n",
       "1459  1460          20       RL         75.0     9937   Pave   NaN      Reg   \n",
       "\n",
       "     LandContour Utilities  ... PoolArea PoolQC  Fence MiscFeature MiscVal  \\\n",
       "0            Lvl    AllPub  ...        0    NaN    NaN         NaN       0   \n",
       "1            Lvl    AllPub  ...        0    NaN    NaN         NaN       0   \n",
       "2            Lvl    AllPub  ...        0    NaN    NaN         NaN       0   \n",
       "3            Lvl    AllPub  ...        0    NaN    NaN         NaN       0   \n",
       "4            Lvl    AllPub  ...        0    NaN    NaN         NaN       0   \n",
       "...          ...       ...  ...      ...    ...    ...         ...     ...   \n",
       "1455         Lvl    AllPub  ...        0    NaN    NaN         NaN       0   \n",
       "1456         Lvl    AllPub  ...        0    NaN  MnPrv         NaN       0   \n",
       "1457         Lvl    AllPub  ...        0    NaN  GdPrv        Shed    2500   \n",
       "1458         Lvl    AllPub  ...        0    NaN    NaN         NaN       0   \n",
       "1459         Lvl    AllPub  ...        0    NaN    NaN         NaN       0   \n",
       "\n",
       "     MoSold YrSold  SaleType  SaleCondition  SalePrice  \n",
       "0         2   2008        WD         Normal     208500  \n",
       "1         5   2007        WD         Normal     181500  \n",
       "2         9   2008        WD         Normal     223500  \n",
       "3         2   2006        WD        Abnorml     140000  \n",
       "4        12   2008        WD         Normal     250000  \n",
       "...     ...    ...       ...            ...        ...  \n",
       "1455      8   2007        WD         Normal     175000  \n",
       "1456      2   2010        WD         Normal     210000  \n",
       "1457      5   2010        WD         Normal     266500  \n",
       "1458      4   2010        WD         Normal     142125  \n",
       "1459      6   2008        WD         Normal     147500  \n",
       "\n",
       "[1460 rows x 81 columns]>"
      ]
     },
     "execution_count": 2,
     "metadata": {},
     "output_type": "execute_result"
    }
   ],
   "source": [
    "import os\n",
    "print(os.getcwd())\n",
    "\n",
    "csv_path = '/mnt/c/Users/Cleme/Documents/Python/Project_Py/TP_Py/data/house_pricing.csv'\n",
    "Houses = pd.read_csv(csv_path,sep=\",\")\n",
    "\n",
    "\n",
    "Houses.info\n"
   ]
  },
  {
   "cell_type": "code",
   "execution_count": 3,
   "metadata": {
    "scrolled": true
   },
   "outputs": [
    {
     "name": "stdout",
     "output_type": "stream",
     "text": [
      " Column: Id ; Type: int64 ; Exemple: 1 ; Quantitative quantitative\n",
      " Column: MSSubClass ; Type: int64 ; Exemple: 60 ; Quantitative quantitative\n",
      " Column: MSZoning ; Type: object ; Exemple: RL ; Categorielle\n",
      " Column: LotFrontage ; Type: float64 ; Exemple: 65.0 ; Quantitative continue\n",
      " Column: LotArea ; Type: int64 ; Exemple: 8450 ; Quantitative quantitative\n",
      " Column: Street ; Type: object ; Exemple: Pave ; Categorielle\n",
      " Column: Alley ; Type: object ; Exemple: nan ; Categorielle\n",
      " Column: LotShape ; Type: object ; Exemple: Reg ; Categorielle\n",
      " Column: LandContour ; Type: object ; Exemple: Lvl ; Categorielle\n",
      " Column: Utilities ; Type: object ; Exemple: AllPub ; Categorielle\n",
      " Column: LotConfig ; Type: object ; Exemple: Inside ; Categorielle\n",
      " Column: LandSlope ; Type: object ; Exemple: Gtl ; Categorielle\n",
      " Column: Neighborhood ; Type: object ; Exemple: CollgCr ; Categorielle\n",
      " Column: Condition1 ; Type: object ; Exemple: Norm ; Categorielle\n",
      " Column: Condition2 ; Type: object ; Exemple: Norm ; Categorielle\n",
      " Column: BldgType ; Type: object ; Exemple: 1Fam ; Categorielle\n",
      " Column: HouseStyle ; Type: object ; Exemple: 2Story ; Categorielle\n",
      " Column: OverallQual ; Type: int64 ; Exemple: 7 ; Quantitative quantitative\n",
      " Column: OverallCond ; Type: int64 ; Exemple: 5 ; Quantitative quantitative\n",
      " Column: YearBuilt ; Type: int64 ; Exemple: 2003 ; Quantitative quantitative\n",
      " Column: YearRemodAdd ; Type: int64 ; Exemple: 2003 ; Quantitative quantitative\n",
      " Column: RoofStyle ; Type: object ; Exemple: Gable ; Categorielle\n",
      " Column: RoofMatl ; Type: object ; Exemple: CompShg ; Categorielle\n",
      " Column: Exterior1st ; Type: object ; Exemple: VinylSd ; Categorielle\n",
      " Column: Exterior2nd ; Type: object ; Exemple: VinylSd ; Categorielle\n",
      " Column: MasVnrType ; Type: object ; Exemple: BrkFace ; Categorielle\n",
      " Column: MasVnrArea ; Type: float64 ; Exemple: 196.0 ; Quantitative continue\n",
      " Column: ExterQual ; Type: object ; Exemple: Gd ; Categorielle\n",
      " Column: ExterCond ; Type: object ; Exemple: TA ; Categorielle\n",
      " Column: Foundation ; Type: object ; Exemple: PConc ; Categorielle\n",
      " Column: BsmtQual ; Type: object ; Exemple: Gd ; Categorielle\n",
      " Column: BsmtCond ; Type: object ; Exemple: TA ; Categorielle\n",
      " Column: BsmtExposure ; Type: object ; Exemple: No ; Categorielle\n",
      " Column: BsmtFinType1 ; Type: object ; Exemple: GLQ ; Categorielle\n",
      " Column: BsmtFinSF1 ; Type: int64 ; Exemple: 706 ; Quantitative quantitative\n",
      " Column: BsmtFinType2 ; Type: object ; Exemple: Unf ; Categorielle\n",
      " Column: BsmtFinSF2 ; Type: int64 ; Exemple: 0 ; Quantitative quantitative\n",
      " Column: BsmtUnfSF ; Type: int64 ; Exemple: 150 ; Quantitative quantitative\n",
      " Column: TotalBsmtSF ; Type: int64 ; Exemple: 856 ; Quantitative quantitative\n",
      " Column: Heating ; Type: object ; Exemple: GasA ; Categorielle\n",
      " Column: HeatingQC ; Type: object ; Exemple: Ex ; Categorielle\n",
      " Column: CentralAir ; Type: object ; Exemple: Y ; Categorielle\n",
      " Column: Electrical ; Type: object ; Exemple: SBrkr ; Categorielle\n",
      " Column: 1stFlrSF ; Type: int64 ; Exemple: 856 ; Quantitative quantitative\n",
      " Column: 2ndFlrSF ; Type: int64 ; Exemple: 854 ; Quantitative quantitative\n",
      " Column: LowQualFinSF ; Type: int64 ; Exemple: 0 ; Quantitative quantitative\n",
      " Column: GrLivArea ; Type: int64 ; Exemple: 1710 ; Quantitative quantitative\n",
      " Column: BsmtFullBath ; Type: int64 ; Exemple: 1 ; Quantitative quantitative\n",
      " Column: BsmtHalfBath ; Type: int64 ; Exemple: 0 ; Quantitative quantitative\n",
      " Column: FullBath ; Type: int64 ; Exemple: 2 ; Quantitative quantitative\n",
      " Column: HalfBath ; Type: int64 ; Exemple: 1 ; Quantitative quantitative\n",
      " Column: BedroomAbvGr ; Type: int64 ; Exemple: 3 ; Quantitative quantitative\n",
      " Column: KitchenAbvGr ; Type: int64 ; Exemple: 1 ; Quantitative quantitative\n",
      " Column: KitchenQual ; Type: object ; Exemple: Gd ; Categorielle\n",
      " Column: TotRmsAbvGrd ; Type: int64 ; Exemple: 8 ; Quantitative quantitative\n",
      " Column: Functional ; Type: object ; Exemple: Typ ; Categorielle\n",
      " Column: Fireplaces ; Type: int64 ; Exemple: 0 ; Quantitative quantitative\n",
      " Column: FireplaceQu ; Type: object ; Exemple: nan ; Categorielle\n",
      " Column: GarageType ; Type: object ; Exemple: Attchd ; Categorielle\n",
      " Column: GarageYrBlt ; Type: float64 ; Exemple: 2003.0 ; Quantitative continue\n",
      " Column: GarageFinish ; Type: object ; Exemple: RFn ; Categorielle\n",
      " Column: GarageCars ; Type: int64 ; Exemple: 2 ; Quantitative quantitative\n",
      " Column: GarageArea ; Type: int64 ; Exemple: 548 ; Quantitative quantitative\n",
      " Column: GarageQual ; Type: object ; Exemple: TA ; Categorielle\n",
      " Column: GarageCond ; Type: object ; Exemple: TA ; Categorielle\n",
      " Column: PavedDrive ; Type: object ; Exemple: Y ; Categorielle\n",
      " Column: WoodDeckSF ; Type: int64 ; Exemple: 0 ; Quantitative quantitative\n",
      " Column: OpenPorchSF ; Type: int64 ; Exemple: 61 ; Quantitative quantitative\n",
      " Column: EnclosedPorch ; Type: int64 ; Exemple: 0 ; Quantitative quantitative\n",
      " Column: 3SsnPorch ; Type: int64 ; Exemple: 0 ; Quantitative quantitative\n",
      " Column: ScreenPorch ; Type: int64 ; Exemple: 0 ; Quantitative quantitative\n",
      " Column: PoolArea ; Type: int64 ; Exemple: 0 ; Quantitative quantitative\n",
      " Column: PoolQC ; Type: object ; Exemple: nan ; Categorielle\n",
      " Column: Fence ; Type: object ; Exemple: nan ; Categorielle\n",
      " Column: MiscFeature ; Type: object ; Exemple: nan ; Categorielle\n",
      " Column: MiscVal ; Type: int64 ; Exemple: 0 ; Quantitative quantitative\n",
      " Column: MoSold ; Type: int64 ; Exemple: 2 ; Quantitative quantitative\n",
      " Column: YrSold ; Type: int64 ; Exemple: 2008 ; Quantitative quantitative\n",
      " Column: SaleType ; Type: object ; Exemple: WD ; Categorielle\n",
      " Column: SaleCondition ; Type: object ; Exemple: Normal ; Categorielle\n",
      " Column: SalePrice ; Type: int64 ; Exemple: 208500 ; Quantitative quantitative\n"
     ]
    }
   ],
   "source": [
    "#Donnez la liste des variables présentes dans ce dataset ainsi que leur nature \n",
    "#sont elles ualitatives, quantitatives, discrète etc…) et leur type (float, int, str etc…)\n",
    "\n",
    "for col in Houses.columns:\n",
    "    type=\"\"\n",
    "    if(Houses.dtypes[col]==\"object\"):\n",
    "        type=\"Categorielle\"\n",
    "        qualitative=False\n",
    "        Listval = []\n",
    "        if(qualitative==True):\n",
    "            type+=\" qualitatives\"\n",
    "        else:\n",
    "            for val in Houses[col]:\n",
    "                if(val in Listval):\n",
    "                    qualitative=True\n",
    "                    break\n",
    "                else:\n",
    "                    Listval.append(val)\n",
    "        \n",
    "    else:\n",
    "        \n",
    "        if(Houses.dtypes[col]==\"int64\"):\n",
    "            type+=\"Quantitative quantitative\"\n",
    "        else:\n",
    "            if(Houses.dtypes[col]==\"float64\"):\n",
    "                type+=\"Quantitative continue\"\n",
    "            else:\n",
    "                type=\"Autre\"\n",
    "            \n",
    "    print(\" Column: \"+str(col) +\" ; Type: \"+str(Houses.dtypes[col]) + \" ; Exemple: \"+str(Houses[col][0])+ \" ; \"+type) "
   ]
  },
  {
   "cell_type": "code",
   "execution_count": 4,
   "metadata": {},
   "outputs": [
    {
     "name": "stdout",
     "output_type": "stream",
     "text": [
      "0        8450\n",
      "1        9600\n",
      "2       11250\n",
      "3        9550\n",
      "4       14260\n",
      "        ...  \n",
      "1455     7917\n",
      "1456    13175\n",
      "1457     9042\n",
      "1458     9717\n",
      "1459     9937\n",
      "Name: LotArea, Length: 1460, dtype: int64\n",
      "\n",
      "0       208500\n",
      "1       181500\n",
      "2       223500\n",
      "3       140000\n",
      "4       250000\n",
      "         ...  \n",
      "1455    175000\n",
      "1456    210000\n",
      "1457    266500\n",
      "1458    142125\n",
      "1459    147500\n",
      "Name: SalePrice, Length: 1460, dtype: int64\n"
     ]
    }
   ],
   "source": [
    "x = Houses[\"SalePrice\"]\n",
    "y = Houses[\"LotArea\"]\n",
    "\n",
    "\n",
    "print(y)\n",
    "print()\n",
    "print(x)"
   ]
  },
  {
   "cell_type": "code",
   "execution_count": 5,
   "metadata": {},
   "outputs": [
    {
     "ename": "NameError",
     "evalue": "name 'y_la' is not defined",
     "output_type": "error",
     "traceback": [
      "\u001b[0;31m---------------------------------------------------------------------------\u001b[0m",
      "\u001b[0;31mNameError\u001b[0m                                 Traceback (most recent call last)",
      "\u001b[0;32m<ipython-input-5-07b3d57e0f9c>\u001b[0m in \u001b[0;36m<module>\u001b[0;34m\u001b[0m\n\u001b[0;32m----> 1\u001b[0;31m \u001b[0;32mif\u001b[0m \u001b[0misinstance\u001b[0m\u001b[0;34m(\u001b[0m\u001b[0my_la\u001b[0m\u001b[0;34m,\u001b[0m\u001b[0;34m(\u001b[0m\u001b[0mlist\u001b[0m\u001b[0;34m,\u001b[0m\u001b[0mpd\u001b[0m\u001b[0;34m.\u001b[0m\u001b[0mcore\u001b[0m\u001b[0;34m.\u001b[0m\u001b[0mseries\u001b[0m\u001b[0;34m.\u001b[0m\u001b[0mSeries\u001b[0m\u001b[0;34m,\u001b[0m\u001b[0mnp\u001b[0m\u001b[0;34m.\u001b[0m\u001b[0mndarray\u001b[0m\u001b[0;34m)\u001b[0m\u001b[0;34m)\u001b[0m\u001b[0;34m:\u001b[0m\u001b[0;34m\u001b[0m\u001b[0;34m\u001b[0m\u001b[0m\n\u001b[0m\u001b[1;32m      2\u001b[0m     \u001b[0mprint\u001b[0m\u001b[0;34m(\u001b[0m\u001b[0;34m\"ndarray type\"\u001b[0m\u001b[0;34m)\u001b[0m\u001b[0;34m\u001b[0m\u001b[0;34m\u001b[0m\u001b[0m\n\u001b[1;32m      3\u001b[0m \u001b[0;32melse\u001b[0m\u001b[0;34m:\u001b[0m\u001b[0;34m\u001b[0m\u001b[0;34m\u001b[0m\u001b[0m\n\u001b[1;32m      4\u001b[0m     \u001b[0;32mraise\u001b[0m \u001b[0mException\u001b[0m\u001b[0;34m(\u001b[0m\u001b[0;34m'wrong type'\u001b[0m\u001b[0;34m)\u001b[0m\u001b[0;34m\u001b[0m\u001b[0;34m\u001b[0m\u001b[0m\n",
      "\u001b[0;31mNameError\u001b[0m: name 'y_la' is not defined"
     ]
    }
   ],
   "source": [
    "if isinstance(y_la,(list,pd.core.series.Series,np.ndarray)):\n",
    "    print(\"ndarray type\")\n",
    "else:\n",
    "    raise Exception('wrong type')"
   ]
  },
  {
   "cell_type": "code",
   "execution_count": 6,
   "metadata": {},
   "outputs": [
    {
     "data": {
      "image/png": "[encoded data removed]",
      "text/plain": [
       "<Figure size 432x288 with 1 Axes>"
      ]
     },
     "metadata": {
      "needs_background": "light"
     },
     "output_type": "display_data"
    }
   ],
   "source": [
    "#regardez comment se comporte la colonne LotArea par rapport au SalesPrices\n",
    "#x = SalesPrices \n",
    "#y = LotArea \n",
    "\n",
    "fig = plt.figure()\n",
    "plt.scatter(x,y)\n",
    "plt.show()"
   ]
  },
  {
   "cell_type": "code",
   "execution_count": 27,
   "metadata": {},
   "outputs": [
    {
     "data": {
      "image/png": "[encoded data removed]",
      "text/plain": [
       "<Figure size 432x288 with 1 Axes>"
      ]
     },
     "metadata": {
      "needs_background": "light"
     },
     "output_type": "display_data"
    }
   ],
   "source": [
    "#LotArea inférieur à 20 000 pieds carrés et un prix inférieur à 500 000$\n",
    "#x_filt = x[x > 500000]\n",
    "#y_filt = y[y < 20000]\n",
    "\n",
    "x_filt = []\n",
    "y_filt = []\n",
    "for index in range(0,len(x)):\n",
    "    if(x[index]<500000 and y[index]<20000):\n",
    "        x_filt.append(x[index])\n",
    "        y_filt.append(y[index])\n",
    "        \n",
    "        \n",
    "fig = plt.figure()\n",
    "plt.scatter(x_filt,y_filt)\n",
    "plt.show()"
   ]
  },
  {
   "cell_type": "code",
   "execution_count": 33,
   "metadata": {
    "scrolled": true
   },
   "outputs": [
    {
     "data": {
      "image/png": "[encoded data removed]",
      "text/plain": [
       "<Figure size 432x288 with 1 Axes>"
      ]
     },
     "metadata": {
      "needs_background": "light"
     },
     "output_type": "display_data"
    }
   ],
   "source": [
    "x = Houses[\"LotFrontage\"]\n",
    "y = Houses[\"LotArea\"]\n",
    "\n",
    "\n",
    "fig = plt.figure()\n",
    "plt.scatter(x,y)\n",
    "plt.show()"
   ]
  },
  {
   "cell_type": "code",
   "execution_count": 34,
   "metadata": {},
   "outputs": [
    {
     "data": {
      "image/png": "[encoded data removed]",
      "text/plain": [
       "<Figure size 432x288 with 1 Axes>"
      ]
     },
     "metadata": {
      "needs_background": "light"
     },
     "output_type": "display_data"
    }
   ],
   "source": [
    "#En créant un nuage de points, regardez la relation entre le LotFrontage et le LotArea\n",
    "x_filt = []\n",
    "y_filt = []\n",
    "for index in range(0,len(x)):\n",
    "    if(x[index]<200 and y[index]<100000):\n",
    "        x_filt.append(x[index])\n",
    "        y_filt.append(y[index])\n",
    "        \n",
    "        \n",
    "fig = plt.figure()\n",
    "plt.scatter(x_filt,y_filt)\n",
    "plt.show()"
   ]
  },
  {
   "cell_type": "code",
   "execution_count": null,
   "metadata": {},
   "outputs": [],
   "source": []
  }
 ],
 "metadata": {
  "kernelspec": {
   "display_name": "Python 3",
   "language": "python",
   "name": "python3"
  },
  "language_info": {
   "codemirror_mode": {
    "name": "ipython",
    "version": 3
   },
   "file_extension": ".py",
   "mimetype": "text/x-python",
   "name": "python",
   "nbconvert_exporter": "python",
   "pygments_lexer": "ipython3",
   "version": "3.7.6"
  }
 },
 "nbformat": 4,
 "nbformat_minor": 4
}
